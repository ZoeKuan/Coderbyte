{
  "nbformat": 4,
  "nbformat_minor": 0,
  "metadata": {
    "colab": {
      "name": "Scale Balancing.ipynb",
      "provenance": [],
      "collapsed_sections": [],
      "include_colab_link": true
    },
    "kernelspec": {
      "name": "python3",
      "display_name": "Python 3"
    }
  },
  "cells": [
    {
      "cell_type": "markdown",
      "metadata": {
        "id": "view-in-github",
        "colab_type": "text"
      },
      "source": [
        "<a href=\"https://colab.research.google.com/github/ZoeKuan/Coderbyte/blob/master/Scale_Balancing.ipynb\" target=\"_parent\"><img src=\"https://colab.research.google.com/assets/colab-badge.svg\" alt=\"Open In Colab\"/></a>"
      ]
    },
    {
      "cell_type": "markdown",
      "metadata": {
        "id": "XSD0FS7NoLOB",
        "colab_type": "text"
      },
      "source": [
        "Scale Balancing\n",
        "\n",
        "Have the function ScaleBalancing(strArr) read strArr which will contain two elements, the first being the two positive integer weights on a balance scale (left and right sides) and the second element being a list of available weights as positive integers. Your goal is to determine if you can balance the scale by using the least amount of weights from the list, but using at most only 2 weights. For example: if strArr is [\"[5, 9]\", \"[1, 2, 6, 7]\"] then this means there is a balance scale with a weight of 5 on the left side and 9 on the right side. It is in fact possible to balance this scale by adding a 6 to the left side from the list of weights and adding a 2 to the right side. Both scales will now equal 11 and they are perfectly balanced. Your program should return a comma separated string of the weights that were used from the list in ascending order, so for this example your program should return the string 2,6\n",
        "\n",
        "There will only ever be one unique solution and the list of available weights will not be empty. It is also possible to add two weights to only one side of the scale to balance it. If it is not possible to balance the scale then your program should return the string not possible.\n",
        "\n",
        "Examples\n",
        "\n",
        "Input: [\"[3, 4]\", \"[1, 2, 7, 7]\"]\n",
        "\n",
        "Output: 1\n",
        "\n",
        "Input: [\"[13, 4]\", \"[1, 2, 3, 6, 14]\"]\n",
        "\n",
        "Output: 3,6"
      ]
    },
    {
      "cell_type": "code",
      "metadata": {
        "id": "6pUDuK5kwCN7",
        "colab_type": "code",
        "colab": {}
      },
      "source": [
        "#testset #ans\n",
        "a0 = [\"[3, 4]\", \"[1, 2, 7, 7]\"] #1\n",
        "a1 = [\"[13, 4]\", \"[1, 2, 3, 6, 14]\"] #3,6\n",
        "a2 = [\"[5, 9]\", \"[1, 2, 6, 7]\"] #2,6\n",
        "a3 = [\"[3, 7]\", \"[1, 2, 7]\"] #not possible \n",
        "a4 = [\"[13, 4]\", \"[1, 2, 3, 3, 4]\"]#not possible\n",
        "a5 = [\"[6, 1]\", \"[1, 10, 6, 5]\"] #5 "
      ],
      "execution_count": 0,
      "outputs": []
    },
    {
      "cell_type": "code",
      "metadata": {
        "id": "MVfxkE9rZG26",
        "colab_type": "code",
        "outputId": "52ea7d7c-926b-4f86-ecff-aaffd8c4e887",
        "colab": {
          "base_uri": "https://localhost:8080/",
          "height": 34
        }
      },
      "source": [
        "def tp2str(x,y):\n",
        "  string = ','\n",
        "  a = str(x),str(y)\n",
        "  return string.join(a)\n",
        "tp2str(1,2)"
      ],
      "execution_count": 2,
      "outputs": [
        {
          "output_type": "execute_result",
          "data": {
            "text/plain": [
              "'1,2'"
            ]
          },
          "metadata": {
            "tags": []
          },
          "execution_count": 2
        }
      ]
    },
    {
      "cell_type": "code",
      "metadata": {
        "id": "ikqkbu66mXeo",
        "colab_type": "code",
        "colab": {}
      },
      "source": [
        "def tp2str(x,y):\n",
        "  string = ','\n",
        "  a = str(x),str(y)\n",
        "  return string.join(a)\n",
        "\n",
        "def ScaleBalancing(strArr):\n",
        "  a = []\n",
        "  for i in strArr:\n",
        "    a.append(eval(i))\n",
        "\n",
        "  left = a[0][0] #left element\n",
        "  right = a[0][1] #right element\n",
        "  choice = a[1]\n",
        "  check = 0\n",
        "\n",
        "  for j in range(len(choice)):\n",
        "    if left+choice[j]==right or right+choice[j]==left:\n",
        "      check = 1\n",
        "      return choice[j]\n",
        "\n",
        "  while check ==0:\n",
        "    for l in range(len(choice)):\n",
        "      for k in range(len(choice)):\n",
        "        #print(choice[l],choice[k])\n",
        "        if int(choice[l]) != int(choice[k]) and k != l:\n",
        "          if left+choice[l]+choice[k]==right or right+choice[l]+choice[k]==left or right+choice[l] == left+choice[k] or right+choice[k] == left+choice[l]:          \n",
        "            return tp2str(choice[l],choice[k])\n",
        "\n",
        "\n",
        "    if check == 0:\n",
        "      return 'not possible'\n",
        "        \n",
        "\n",
        "print(ScaleBalancing(input())) "
      ],
      "execution_count": 0,
      "outputs": []
    },
    {
      "cell_type": "code",
      "metadata": {
        "id": "juVkPaE-hC9c",
        "colab_type": "code",
        "colab": {}
      },
      "source": [
        ""
      ],
      "execution_count": 0,
      "outputs": []
    }
  ]
}