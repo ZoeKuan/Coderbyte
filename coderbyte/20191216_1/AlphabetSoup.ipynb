{
 "cells": [
  {
   "cell_type": "markdown",
   "metadata": {
    "colab_type": "text",
    "id": "MWjW6g-I1z8U"
   },
   "source": [
    "Alphabet Soup\n",
    "Have the function AlphabetSoup(str) take the str string parameter being passed and return the string with the letters in alphabetical order (ie. hello becomes ehllo). Assume numbers and punctuation symbols will not be included in the string.\n",
    "\n",
    "Examples\n",
    "\n",
    "Input: \"coderbyte\"\n",
    "\n",
    "Output: bcdeeorty\n",
    "\n",
    "Input: \"hooplah\"\n",
    "\n",
    "Output: ahhloop"
   ]
  },
  {
   "cell_type": "code",
   "execution_count": 1,
   "metadata": {
    "colab": {
     "base_uri": "https://localhost:8080/",
     "height": 51
    },
    "colab_type": "code",
    "executionInfo": {
     "elapsed": 5519,
     "status": "ok",
     "timestamp": 1577209765079,
     "user": {
      "displayName": "SAO I KUAN",
      "photoUrl": "https://lh3.googleusercontent.com/a-/AAuE7mCx9zdj1Txy8d29eoFL_pNIkN5Nt7zAW7SeA9aW=s64",
      "userId": "06738317984791529564"
     },
     "user_tz": -540
    },
    "id": "WOCZXJ271XWF",
    "outputId": "ae2c6118-ef96-464f-9438-89de902936f2"
   },
   "outputs": [
    {
     "name": "stdout",
     "output_type": "stream",
     "text": [
      "\"coderbyte\"\n",
      "\"\"bcdeeorty\n"
     ]
    }
   ],
   "source": [
    "def AlphabetSoup (g):\n",
    "    a=[*g]\n",
    "    d=''\n",
    "    e=d.join(sorted(a))\n",
    "    return e\n",
    "\n",
    "# keep this function call here \n",
    "print(AlphabetSoup(input()))"
   ]
  },
  {
   "cell_type": "code",
   "execution_count": 0,
   "metadata": {
    "colab": {},
    "colab_type": "code",
    "id": "R6ICxJ1QBuoF"
   },
   "outputs": [],
   "source": []
  }
 ],
 "metadata": {
  "colab": {
   "collapsed_sections": [],
   "name": "AlphabetSoup.ipynb",
   "provenance": []
  },
  "kernelspec": {
   "display_name": "Python 3",
   "language": "python",
   "name": "python3"
  },
  "language_info": {
   "codemirror_mode": {
    "name": "ipython",
    "version": 3
   },
   "file_extension": ".py",
   "mimetype": "text/x-python",
   "name": "python",
   "nbconvert_exporter": "python",
   "pygments_lexer": "ipython3",
   "version": "3.7.0"
  }
 },
 "nbformat": 4,
 "nbformat_minor": 1
}
