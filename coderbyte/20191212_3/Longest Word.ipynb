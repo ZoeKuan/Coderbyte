{
 "cells": [
  {
   "cell_type": "markdown",
   "metadata": {},
   "source": [
    "Have the function LongestWord(sen) take the sen parameter being passed and return the largest word in the string. If there are two or more words that are the same length, return the first word from the string with that length. Ignore punctuation and assume sen will not be empty.\n",
    "\n",
    "Use the Parameter Testing feature in the box below to test your code with different arguments."
   ]
  },
  {
   "cell_type": "code",
   "execution_count": 0,
   "metadata": {
    "colab": {},
    "colab_type": "code",
    "id": "cZUjc0Y9izIZ"
   },
   "outputs": [],
   "source": [
    "import re\n",
    "\n",
    "def LongestWord(sen):\n",
    "  spt = re.sub('\\W+',' ',sen).split()\n",
    "  a = ''\n",
    "  for i in spt:\n",
    "    if len(i) > len(a):\n",
    "      a = i\n",
    "  \n",
    "  # code goes here\n",
    "  return a\n",
    "  \n",
    "\n",
    "# keep this function call here \n",
    "print(LongestWord(input()))"
   ]
  }
 ],
 "metadata": {
  "colab": {
   "collapsed_sections": [],
   "name": "Longest Word.ipynb",
   "provenance": []
  },
  "kernelspec": {
   "display_name": "Python 3",
   "language": "python",
   "name": "python3"
  },
  "language_info": {
   "codemirror_mode": {
    "name": "ipython",
    "version": 3
   },
   "file_extension": ".py",
   "mimetype": "text/x-python",
   "name": "python",
   "nbconvert_exporter": "python",
   "pygments_lexer": "ipython3",
   "version": "3.7.0"
  }
 },
 "nbformat": 4,
 "nbformat_minor": 1
}
