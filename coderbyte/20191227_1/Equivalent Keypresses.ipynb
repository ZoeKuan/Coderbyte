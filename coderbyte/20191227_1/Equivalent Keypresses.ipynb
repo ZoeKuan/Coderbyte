{
 "cells": [
  {
   "cell_type": "markdown",
   "metadata": {
    "colab_type": "text",
    "id": "Z5sRrucoeQx2"
   },
   "source": [
    "Equivalent Keypresses\n",
    "Have the function EquivalentKeypresses(strArr) read the array of strings stored in strArr which will contain 2 strings representing two comma separated lists of keypresses. Your goal is to return the string true if the keypresses produce the same printable string and the string false if they do not. A keypress can be either a printable character or a backspace represented by -B. You can produce a printable string from such a string of keypresses by having backspaces erase one preceding character.\n",
    "\n",
    "For example: if strArr contains [\"a,b,c,d\", \"a,b,c,c,-B,d\"] the output should return true because those keypresses produce the same printable string. The array given will not be empty. The keypresses will only contain letters from the alphabet and backspaces.\n",
    "\n",
    "Examples\n",
    "\n",
    "Input: [\"a,b,c,d\", \"a,b,c,d,-B,d\"]\n",
    "\n",
    "Output: true\n",
    "\n",
    "Input: [\"c,a,r,d\", \"c,a,-B,r,d\"]\n",
    "\n",
    "Output: false"
   ]
  },
  {
   "cell_type": "code",
   "execution_count": null,
   "metadata": {},
   "outputs": [],
   "source": [
    "def EquivalentKeypresses(strArr):\n",
    "\n",
    "  sp = []\n",
    "  new = [[],[]]\n",
    "  for i in range(len(strArr)):\n",
    "    sp.append(strArr[i].split(','))\n",
    "\n",
    "  t=0\n",
    "  for j in sp:\n",
    "    for k in j:\n",
    "      if k != '-B':\n",
    "        new[t].append(k)\n",
    "        \n",
    "      else:\n",
    "        if len(new[t]) == 0:\n",
    "          continue\n",
    "        else:\n",
    "          new[t].pop()\n",
    "    if [''] in new:\n",
    "      new[t].clear()\n",
    "    t+=1\n",
    "\n",
    "  if new[0]==new[1]:\n",
    "    print('true')\n",
    "  else:\n",
    "    print('false')\n",
    "  #print(new,'<-this')\n",
    "\n",
    "# keep this function call here \n",
    "EquivalentKeypresses(input())"
   ]
  },
  {
   "cell_type": "code",
   "execution_count": null,
   "metadata": {},
   "outputs": [],
   "source": []
  }
 ],
 "metadata": {
  "colab": {
   "collapsed_sections": [],
   "name": "Equivalent Keypresses.ipynb",
   "provenance": []
  },
  "kernelspec": {
   "display_name": "Python 3",
   "language": "python",
   "name": "python3"
  },
  "language_info": {
   "codemirror_mode": {
    "name": "ipython",
    "version": 3
   },
   "file_extension": ".py",
   "mimetype": "text/x-python",
   "name": "python",
   "nbconvert_exporter": "python",
   "pygments_lexer": "ipython3",
   "version": "3.7.0"
  }
 },
 "nbformat": 4,
 "nbformat_minor": 1
}
