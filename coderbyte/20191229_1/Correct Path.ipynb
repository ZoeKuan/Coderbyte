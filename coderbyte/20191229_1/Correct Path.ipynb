{
 "cells": [
  {
   "cell_type": "markdown",
   "metadata": {
    "colab_type": "text",
    "id": "xn20B7ckoPLh"
   },
   "source": [
    "Correct Path\n",
    "\n",
    "Have the function CorrectPath(str) read the str parameter being passed, which will represent the movements made in a 5x5 grid of cells starting from the top left position. The characters in the input string will be entirely composed of: r, l, u, d, ?. Each of the characters stand for the direction to take within the grid, for example: r = right, l = left, u = up, d = down. Your goal is to determine what characters the question marks should be in order for a path to be created to go from the top left of the grid all the way to the bottom right without touching previously travelled on cells in the grid.\n",
    "\n",
    "For example: if str is \"r?d?drdd\" then your program should output the final correct string that will allow a path to be formed from the top left of a 5x5 grid to the bottom right. For this input, your program should therefore return the string rrdrdrdd. There will only ever be one correct path and there will always be at least one question mark within the input string.\n",
    "\n",
    "Examples\n",
    "\n",
    "Input: \"???rrurdr?\"\n",
    "\n",
    "Output: dddrrurdrd\n",
    "\n",
    "Input: \"drdr??rrddd?\"\n",
    "\n",
    "Output: drdruurrdddd"
   ]
  },
  {
   "cell_type": "code",
   "execution_count": null,
   "metadata": {},
   "outputs": [],
   "source": [
    "from random import choice\n",
    "dictionary = {'d':1,'u':-1,'l':-1,'r':1}\n",
    "dictlist = list(dictionary.keys())\n",
    "\n",
    "\n",
    "def CorrectPath(str66):\n",
    "  sumx=0\n",
    "  sumy=0\n",
    "  t=0\n",
    "  b = ['du','ud','lr','rl','drul','rdlu','ldru','rdlu','urdl','ruld','uldr','drul']\n",
    "  \n",
    "  # code goes here\n",
    " \n",
    "  while sumx != 4 or sumy != 4 or check == 'in':\n",
    "\n",
    "    inputStr = [*str66]\n",
    "    gen = []\n",
    "    for eachStep in inputStr:\n",
    "      if eachStep == '?':\n",
    "        chooseDir = choice(dictlist)\n",
    "        gen.append(chooseDir)\n",
    "      else:\n",
    "        gen.append(eachStep)\n",
    "      t+=1\n",
    "    #print(gen)\n",
    "  #\n",
    "    step_str = ''\n",
    "    for step in gen:\n",
    "      str2val = step_str.join(gen)\n",
    "  #\n",
    "    for pair in b:\n",
    "      if pair not in str2val:\n",
    "        check = 'not in'\n",
    "      else:\n",
    "        check = 'in'\n",
    "        break\n",
    "\n",
    "    #\n",
    "    x = []\n",
    "    y = []\n",
    "    for i in str2val:\n",
    "      if i == 'd' or i == 'u':\n",
    "        y.append(dictionary[i])\n",
    "      elif i == 'l' or i == 'r':\n",
    "        x.append(dictionary[i])\n",
    "    sumx = sum(x)\n",
    "    sumy = sum(y)\n",
    "      \n",
    "\n",
    "  print(str2val)#,sumx,sumy\n",
    " \n",
    "\n",
    "# keep this function call here \n",
    "CorrectPath(input())"
   ]
  }
 ],
 "metadata": {
  "colab": {
   "collapsed_sections": [],
   "name": "Correct Path.ipynb",
   "provenance": []
  },
  "kernelspec": {
   "display_name": "Python 3",
   "language": "python",
   "name": "python3"
  },
  "language_info": {
   "codemirror_mode": {
    "name": "ipython",
    "version": 3
   },
   "file_extension": ".py",
   "mimetype": "text/x-python",
   "name": "python",
   "nbconvert_exporter": "python",
   "pygments_lexer": "ipython3",
   "version": "3.7.0"
  }
 },
 "nbformat": 4,
 "nbformat_minor": 1
}
