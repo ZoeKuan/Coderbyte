{
 "cells": [
  {
   "cell_type": "markdown",
   "metadata": {
    "colab_type": "text",
    "id": "bX2GZvrAvPfR"
   },
   "source": [
    "Find Intersection\n",
    "\n",
    "Have the function FindIntersection(strArr) read the array of strings stored in strArr which will contain 2 elements: the first element will represent a list of comma-separated numbers sorted in ascending order, the second element will represent a second list of comma-separated numbers (also sorted). Your goal is to return a comma-separated string containing the numbers that occur in elements of strArr in sorted order. If there is no intersection, return the string false.\n",
    "\n",
    "For example: if strArr contains [\"1, 3, 4, 7, 13\", \"1, 2, 4, 13, 15\"] the output should return \"1,4,13\" because those numbers appear in both strings. The array given will not be empty, and each string inside the array will be of numbers sorted in ascending order and may contain negative numbers.\n",
    "\n",
    "Examples\n",
    "\n",
    "Input: [\"1, 3, 4, 7, 13\", \"1, 2, 4, 13, 15\"]\n",
    "\n",
    "Output: 1,4,13\n",
    "\n",
    "Input: [\"1, 3, 9, 10, 17, 18\", \"1, 4, 9, 10\"]\n",
    "\n",
    "Output: 1,9,10"
   ]
  },
  {
   "cell_type": "code",
   "execution_count": 7,
   "metadata": {
    "colab": {
     "base_uri": "https://localhost:8080/",
     "height": 51
    },
    "colab_type": "code",
    "executionInfo": {
     "elapsed": 6786,
     "status": "ok",
     "timestamp": 1577233889516,
     "user": {
      "displayName": "SAO I KUAN",
      "photoUrl": "https://lh3.googleusercontent.com/a-/AAuE7mCx9zdj1Txy8d29eoFL_pNIkN5Nt7zAW7SeA9aW=s64",
      "userId": "06738317984791529564"
     },
     "user_tz": -540
    },
    "id": "pZQMxqRzKWiy",
    "outputId": "f0c690b1-f590-4cef-df45-2f6b252ecce1"
   },
   "outputs": [
    {
     "name": "stdout",
     "output_type": "stream",
     "text": [
      "['1, 2, 3, 4, 5', '6, 7, 8, 9, 10']\n",
      "false\n"
     ]
    }
   ],
   "source": [
    "def FindIntersection(strArr):\n",
    "\n",
    "  # code goes here\n",
    "  a = []\n",
    "  for i in strArr:\n",
    "    a.append(i.split(', '))\n",
    "  a.sort(reverse=True)\n",
    "  \n",
    "  flr = range(len(a[0]))\n",
    "  slr = range(len(a[1]))\n",
    "  \n",
    "  con = []\n",
    "  for j in flr:\n",
    "    for k in slr:\n",
    "      if a[0][j] == a[1][k]:\n",
    "        con.append(int(a[1][k]))\n",
    "  \n",
    "  if len(con)>0: \n",
    "    return str(con).strip('[]').replace(\" \",'')\n",
    "  else:\n",
    "    return 'false' \n",
    "# keep this function call here \n",
    "print(FindIntersection(input()))"
   ]
  },
  {
   "cell_type": "code",
   "execution_count": null,
   "metadata": {},
   "outputs": [],
   "source": []
  }
 ],
 "metadata": {
  "colab": {
   "collapsed_sections": [],
   "name": "Find Intersection.ipynb",
   "provenance": []
  },
  "kernelspec": {
   "display_name": "Python 3",
   "language": "python",
   "name": "python3"
  },
  "language_info": {
   "codemirror_mode": {
    "name": "ipython",
    "version": 3
   },
   "file_extension": ".py",
   "mimetype": "text/x-python",
   "name": "python",
   "nbconvert_exporter": "python",
   "pygments_lexer": "ipython3",
   "version": "3.7.0"
  }
 },
 "nbformat": 4,
 "nbformat_minor": 1
}
