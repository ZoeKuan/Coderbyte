{
 "cells": [
  {
   "cell_type": "markdown",
   "metadata": {
    "colab_type": "text",
    "id": "Sj6przqBoG0n"
   },
   "source": [
    "Vowel Square\n",
    "\n",
    "Have the function VowelSquare(strArr) take the strArr parameter being passed which will be a 2D matrix of some arbitrary size filled with letters from the alphabet, and determine if a 2x2 square composed entirely of vowels exists in the matrix. For example: strArr is [\"abcd\", \"eikr\", \"oufj\"] then this matrix looks like the following:\n",
    "\n",
    "a b c d\n",
    "\n",
    "e i k r\n",
    "\n",
    "o u f j\n",
    "\n",
    "Within this matrix there is a 2x2 square of vowels starting in the second row and first column, namely, ei, ou. If a 2x2 square of vowels is found your program should return the top-left position (row-column) of the square, so for this example your program should return 1-0. If no 2x2 square of vowels exists, then return the string not found. If there are multiple squares of vowels, return the one that is at the most top-left position in the whole matrix. The input matrix will at least be of size 2x2.\n",
    "\n",
    "Examples\n",
    "\n",
    "Input: [\"aqrst\", \"ukaei\", \"ffooo\"]\n",
    "\n",
    "Output: 1-2\n",
    "\n",
    "Input: [\"gg\", \"ff\"]\n",
    "\n",
    "Output: not found"
   ]
  },
  {
   "cell_type": "code",
   "execution_count": 0,
   "metadata": {
    "colab": {},
    "colab_type": "code",
    "id": "T4qHRDJbPCEl"
   },
   "outputs": [],
   "source": [
    "def VowelSquare(arr):\n",
    "  check = []\n",
    "  vowel = ['a','e','i','o','u']\n",
    "\n",
    "  for i in range(len(arr)-1):\n",
    "    for j in range(len(arr[i])-1):\n",
    "      if arr[i][j] in vowel and arr[i][j+1] in vowel and arr[i+1][j] in vowel and arr[i+1][j+1] in vowel:\n",
    "        check.append(str((i,j)).replace(' ','').replace(',','-').strip('()'))\n",
    "\n",
    "  if not check:\n",
    "    print('not found')\n",
    "  else:\n",
    "    print(check[0])\n",
    "\n",
    "VowelSquare(input())"
   ]
  }
 ],
 "metadata": {
  "colab": {
   "collapsed_sections": [],
   "name": "Vowel Square.ipynb",
   "provenance": []
  },
  "kernelspec": {
   "display_name": "Python 3",
   "language": "python",
   "name": "python3"
  },
  "language_info": {
   "codemirror_mode": {
    "name": "ipython",
    "version": 3
   },
   "file_extension": ".py",
   "mimetype": "text/x-python",
   "name": "python",
   "nbconvert_exporter": "python",
   "pygments_lexer": "ipython3",
   "version": "3.7.0"
  }
 },
 "nbformat": 4,
 "nbformat_minor": 1
}
