{
 "cells": [
  {
   "cell_type": "markdown",
   "metadata": {
    "colab_type": "text",
    "id": "VVhIEg13k34b"
   },
   "source": [
    "Questions Marks\n",
    "\n",
    "Have the function QuestionsMarks(str) take the str string parameter, which will contain single digit numbers, letters, and question marks, and check if there are exactly 3 question marks between every pair of two numbers that add up to 10. If so, then your program should return the string true, otherwise it should return the string false. If there aren't any two numbers that add up to 10 in the string, then your program should return false as well.\n",
    "\n",
    "For example: if str is \"arrb6???4xxbl5???eee5\" then your program should return true because there are exactly 3 question marks between 6 and 4, and 3 question marks between 5 and 5 at the end of the string.\n",
    "\n",
    "Examples\n",
    "\n",
    "Input: \"aa6?9\"\n",
    "\n",
    "Output: false\n",
    "\n",
    "Input: \"acc?7??sss?3rr1??????5\"\n",
    "\n",
    "Output: true"
   ]
  },
  {
   "cell_type": "code",
   "execution_count": 0,
   "metadata": {
    "colab": {},
    "colab_type": "code",
    "id": "DjLuVQpBEya_"
   },
   "outputs": [],
   "source": [
    "def QuestionsMarks(st):\n",
    "\n",
    "  qms = '?'\n",
    "  t = []\n",
    "  for i in range(len(st)):\n",
    "    if st[i] == qms:\n",
    "      t.append(i)\n",
    "\n",
    "  res = []\n",
    "  if len(t)>=3:\n",
    "    #print('run')\n",
    "    for j in range(len(t)-2):\n",
    "      if t[j]+3 < len(st):\n",
    "        #print('run2')\n",
    "        #print(st[t[j]-1],st[t[j+2]+1],'<<<')\n",
    "        if st[t[j]-1].isdigit() and st[t[j+2]+1].isdigit():\n",
    "          #print('run3')\n",
    "          if int(st[t[j]-1]) + int(st[t[j+2]+1]) == 10:\n",
    "            res.append('t')\n",
    "            break\n",
    "          else:\n",
    "            continue\n",
    "        else: #\n",
    "          res.append('f<<') #\n",
    "  else:\n",
    "    res.append('f')\n",
    "\n",
    "  if 't' in res:\n",
    "    print('true')\n",
    "  else:\n",
    "    print('false')\n",
    "\n",
    "QuestionsMarks(input())"
   ]
  }
 ],
 "metadata": {
  "colab": {
   "collapsed_sections": [],
   "name": "Questions Marks.ipynb",
   "provenance": []
  },
  "kernelspec": {
   "display_name": "Python 3",
   "language": "python",
   "name": "python3"
  },
  "language_info": {
   "codemirror_mode": {
    "name": "ipython",
    "version": 3
   },
   "file_extension": ".py",
   "mimetype": "text/x-python",
   "name": "python",
   "nbconvert_exporter": "python",
   "pygments_lexer": "ipython3",
   "version": "3.7.0"
  }
 },
 "nbformat": 4,
 "nbformat_minor": 1
}
