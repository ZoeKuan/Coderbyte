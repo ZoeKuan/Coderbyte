{
 "cells": [
  {
   "cell_type": "markdown",
   "metadata": {
    "colab_type": "text",
    "id": "0-53Xmr3wEu2"
   },
   "source": [
    "Letter Changes\n",
    "\n",
    "Have the function LetterChanges(str) take the str parameter being passed and modify it using the following algorithm. Replace every letter in the string with the letter following it in the alphabet (ie. c becomes d, z becomes a). Then capitalize every vowel in this new string (a, e, i, o, u) and finally return this modified string.\n",
    "\n",
    "Examples\n",
    "\n",
    "Input: \"hello*3\"\n",
    "\n",
    "Output: Ifmmp*3\n",
    "\n",
    "Input: \"fun times!\"\n",
    "\n",
    "Output: gvO Ujnft!\n",
    "\n"
   ]
  },
  {
   "cell_type": "code",
   "execution_count": 0,
   "metadata": {
    "colab": {},
    "colab_type": "code",
    "id": "17OwoatcwDfI"
   },
   "outputs": [],
   "source": [
    "def LetterChanges(str):\n",
    "    word = [*str]\n",
    "    letter_list = []\n",
    "    new_word = ''\n",
    "    \n",
    "    for i in word:\n",
    "        if ord(i) in range(65,90) or ord(i) in range(97,122):\n",
    "            letter = (chr((ord(i)+1)))\n",
    "            #letter_list.append(letter)\n",
    "            while  (ord(letter)) in (97,101,105,111,117):\n",
    "                letter = (chr(ord(letter)-32))            \n",
    "                #letter_list.append(letter)\n",
    "            letter_list.append(letter)\n",
    "        else:\n",
    "            letter = (chr(ord(i)))\n",
    "            letter_list.append(letter)\n",
    "            \n",
    "    return (new_word.join(letter_list))\n",
    "\n",
    "# keep this function call here \n",
    "print(LetterChanges(input()))"
   ]
  }
 ],
 "metadata": {
  "colab": {
   "collapsed_sections": [],
   "name": "Letter Changes.ipynb",
   "provenance": []
  },
  "kernelspec": {
   "display_name": "Python 3",
   "language": "python",
   "name": "python3"
  },
  "language_info": {
   "codemirror_mode": {
    "name": "ipython",
    "version": 3
   },
   "file_extension": ".py",
   "mimetype": "text/x-python",
   "name": "python",
   "nbconvert_exporter": "python",
   "pygments_lexer": "ipython3",
   "version": "3.7.0"
  }
 },
 "nbformat": 4,
 "nbformat_minor": 1
}
