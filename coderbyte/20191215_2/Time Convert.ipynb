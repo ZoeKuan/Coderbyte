{
 "cells": [
  {
   "cell_type": "markdown",
   "metadata": {
    "colab_type": "text",
    "id": "AMjNJbq8cjF4"
   },
   "source": [
    "Time Convert\n",
    "\n",
    "Have the function TimeConvert(num) take the num parameter being passed and return the number of hours and minutes the parameter converts to (ie. if num = 63 then the output should be 1:3). Separate the number of hours and minutes with a colon.\n",
    "Examples\n",
    "\n",
    "Input: 126\n",
    "\n",
    "Output: 2:6\n",
    "\n",
    "Input: 45\n",
    "\n",
    "Output: 0:45"
   ]
  },
  {
   "cell_type": "code",
   "execution_count": 0,
   "metadata": {
    "colab": {},
    "colab_type": "code",
    "id": "Bhj4EQ7NcgWJ"
   },
   "outputs": [],
   "source": [
    "def TimeConvert(num):\n",
    "\n",
    "\n",
    "    hr = num // 60\n",
    "    m = num - hr *60\n",
    "    \n",
    "    if m in (10,20,30,40):\n",
    "        min = m / 100\n",
    "        ans = str('%.2f' %float(hr + min)).replace('.',':')\n",
    "        return ans\n",
    "    elif m < 10:\n",
    "        min = m / 10\n",
    "        ans = str(hr + min).replace('.',':')\n",
    "        return ans\n",
    "    else:\n",
    "        min = m /100\n",
    "        ans = str(hr + min).replace('.',':')\n",
    "        return ans\n",
    "\n",
    "\n",
    "# keep this function call here \n",
    "print(TimeConvert(input()))"
   ]
  }
 ],
 "metadata": {
  "colab": {
   "collapsed_sections": [],
   "name": "Time Convert.ipynb",
   "provenance": []
  },
  "kernelspec": {
   "display_name": "Python 3",
   "language": "python",
   "name": "python3"
  },
  "language_info": {
   "codemirror_mode": {
    "name": "ipython",
    "version": 3
   },
   "file_extension": ".py",
   "mimetype": "text/x-python",
   "name": "python",
   "nbconvert_exporter": "python",
   "pygments_lexer": "ipython3",
   "version": "3.7.0"
  }
 },
 "nbformat": 4,
 "nbformat_minor": 1
}
